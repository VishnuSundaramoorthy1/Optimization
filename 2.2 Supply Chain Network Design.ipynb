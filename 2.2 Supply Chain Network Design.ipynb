{
 "cells": [
  {
   "cell_type": "code",
   "execution_count": 1,
   "id": "e4843d6a-b87f-4edf-a7b1-4cfa62dbaadf",
   "metadata": {},
   "outputs": [
    {
     "name": "stdout",
     "output_type": "stream",
     "text": [
      "Optimal cost:5.759169075e9\n"
     ]
    }
   ],
   "source": [
    "# Importing the required packages\n",
    "using JuMP, HiGHS\n",
    "using DataFrames, NamedArrays\n",
    "\n",
    "# Name of different regions\n",
    "location_name = [:calopia, :sorange, :tyran, :entworpe, :fardo]\n",
    "\n",
    "# Expected total demand at each region\n",
    "demand = Dict(zip(location_name, [28733, 51428, 11969, 11750, 10508]))\n",
    "\n",
    "# Associated fixed costs\n",
    "\n",
    "# Fixed cost to build a factory irrespective of capacity\n",
    "fixed_factory = 500000\n",
    "\n",
    "# Fixed cost to build a warehouse --> There is no upper bound to warehouse capacity, it has infinite capacity                     \n",
    "fixed_warehouse = 100000\n",
    "\n",
    "# variable costs\n",
    "# Additional capcity costs of $50,000 per drum\n",
    "variable_production = 50000   \n",
    "\n",
    "# Holding cost per drum per year, includes both in transit and in warehouse\n",
    "holding_warehouse = 100             \n",
    "\n",
    "max_capacity = 73000\n",
    "\n",
    "\n",
    "# Shipping cost from factory to warehouse\n",
    "    # Cost per truck load: Same region ---> $15,000; \n",
    "    # Different region in same continent ---> $20,000 \n",
    "    # Between Continent and Fardo ---> $45,000\n",
    "    # Decided to ship full truck load of 200 drums per shipment, \n",
    "    # the cost matrix is calculated by dividing 200 drums respect to cost per truck load\n",
    "\n",
    "shipping_factory_to_warehouse = [\n",
    "    75 100 100 100 225\n",
    "    100 75 100 200 225\n",
    "    100 100 75 100 225\n",
    "    100 100 100 75 225\n",
    "    225 225 225 225 75\n",
    "]\n",
    "\n",
    "SFTW_NA = NamedArray(shipping_factory_to_warehouse, (location_name, location_name), \n",
    "                                                    (\"Factory Location\", \"Warehouse Location\"));\n",
    "\n",
    "# Shipping cost from Warehouse to customer\n",
    "# All orders are fulfilled through mail: Statement provided ---> Fixed can't change\n",
    "        # Cost per drum: $150 for same region; \n",
    "        # $200 for different region in same continent; \n",
    "        # $400 for between Fardo\n",
    "\n",
    "shipping_warehouse_to_customer = [\n",
    "    150 200 200 200 400\n",
    "    200 150 200 200 400\n",
    "    200 200 150 200 400\n",
    "    200 200 200 150 400\n",
    "    400 400 400 450 150\n",
    "]\n",
    "\n",
    "SWTC_NA = NamedArray(shipping_warehouse_to_customer, (location_name, location_name), \n",
    "                                                     (\"Warehouse Location\", \"Customer Location\"));\n",
    "\n",
    "\n",
    "# Declaring the model\n",
    "model = Model(HiGHS.Optimizer)\n",
    "\n",
    "# Variables\n",
    "\n",
    "@variable(model, factory_decision[location_name], Bin)     # Binary variable if a factory is open or not\n",
    "@variable(model, warehouse_decision[location_name], Bin)   # Binary variable if a warehouse is open or not\n",
    "\n",
    "\n",
    "@variable(model, factory_capacity[location_name] >= 0)     # Factory capacity has to be greater than zero\n",
    "@variable(model, warehouse_capacity[location_name] >= 0)   # Warehouse capacity has to be greater than zero\n",
    "\n",
    "\n",
    "# Shipping quantity from factory to warehouse through truck\n",
    "@variable(model, factory_to_warehouse_shipping[i in location_name, j in location_name] >= 0)\n",
    "\n",
    "\n",
    "# Shipping quantity from warehouse to customer through mail\n",
    "@variable(model, warehouse_to_customer[j in location_name, k in location_name] >= 0)\n",
    "\n",
    "\n",
    "# Objective function as expression\n",
    "@expression(model, factory_cost, sum(fixed_factory * factory_decision[i] for i in location_name))\n",
    "\n",
    "@expression(model, warehouse_cost, sum(fixed_warehouse * warehouse_decision[j] for j in location_name))\n",
    "\n",
    "@expression(model, production_cost, sum(variable_production * factory_capacity[i] for i in location_name))\n",
    "\n",
    "@expression(model, shipping_cost_to_warehouse, \n",
    "    sum(SFTW_NA[i, j] * factory_to_warehouse_shipping[i, j] For i in location_name, j in location_name))\n",
    "\n",
    "@expression(model, shipping_cost_to_customer, \n",
    "    sum(SWTC_NA[j, k] * warehouse_to_customer[j, k] for j in location_name, k in location_name))\n",
    "\n",
    "@expression(model, holding_cost, \n",
    "    sum(holding_warehouse * warehouse_to_customer[j, k] for j in location_name, k in location_name))\n",
    "\n",
    "# Final objective function\n",
    "@objective(model, Min, factory_cost \n",
    "                    + warehouse_cost \n",
    "                    + production_cost \n",
    "                    + shipping_cost_to_warehouse \n",
    "                    + shipping_cost_to_customer \n",
    "                    + holding_cost)\n",
    "\n",
    "\n",
    "# Constraints\n",
    "# Initial Constraint\n",
    "@constraint(model, factory_decision[:calopia] == 1)         # Calopia factory is already open at the start\n",
    "@constraint(model, factory_capacity[:calopia] >= 20)        # Calopia has a initial production capacity\n",
    "\n",
    "\n",
    "# Production  constraint\n",
    "@constraint(model, [i in location_name], factory_capacity[i] <= (factory_decision[i] * max_capacity))\n",
    "\n",
    "\n",
    "# Supply Constraint from factory to warehouse\n",
    "@constraint(model, [i in location_name], \n",
    "    sum(factory_to_warehouse_shipping[i, j] for j in location_name) <= factory_capacity[i])\n",
    "\n",
    "\n",
    "# Ship to warehouse from a factory if a warehouse is only open\n",
    "# Including Big M Method, \n",
    "M = 200000000\n",
    "@constraint(model, [j in location_name], \n",
    "    sum(factory_to_warehouse_shipping[i, j] for i in location_name) <= M * warehouse_decision[j])\n",
    "\n",
    "# Flow balance constraint\n",
    "@constraint(model, [j in location_name], \n",
    "    sum(factory_to_warehouse_shipping[i, j] for i in location_name) == sum(warehouse_to_customer[j, k] for k in location_name))\n",
    "\n",
    "# Demand constraint\n",
    "@constraint(model, [k in location_name], \n",
    "    sum(warehouse_to_customer[j, k] for j in location_name) == demand[k])\n",
    "\n",
    "\n",
    "# Solving the problem\n",
    "set_silent(model)\n",
    "optimize!(model)\n",
    "\n",
    "\n",
    "# Printing the results\n",
    "optimal_cost = objective_value(model)\n",
    "println(\"Optimal cost:\", optimal_cost)"
   ]
  },
  {
   "cell_type": "code",
   "execution_count": 2,
   "id": "6943e368-ed59-4d83-a521-a21569b0c70e",
   "metadata": {},
   "outputs": [
    {
     "name": "stdout",
     "output_type": "stream",
     "text": [
      "Factories to Open:[:calopia, :sorange, :fardo]\n"
     ]
    }
   ],
   "source": [
    "# Print the factories that are open\n",
    "factories_open = [i for i in location_name if value(factory_decision[i]) == 1]\n",
    "println(\"Factories to Open:\", factories_open)"
   ]
  },
  {
   "cell_type": "code",
   "execution_count": 3,
   "id": "a4c39446-eb95-4f99-972d-378cddd0253a",
   "metadata": {},
   "outputs": [
    {
     "name": "stdout",
     "output_type": "stream",
     "text": [
      "Warehouses to Open:[:calopia, :sorange, :tyran, :entworpe, :fardo]\n"
     ]
    }
   ],
   "source": [
    "# Print the warehouses that are open\n",
    "warehouses_open = [i for i in location_name if value(warehouse_decision[i]) == 1]\n",
    "println(\"Warehouses to Open:\", warehouses_open)"
   ]
  },
  {
   "cell_type": "code",
   "execution_count": 4,
   "id": "8b3a4a5f-3a3e-4c8d-b2b8-68a6effef9c6",
   "metadata": {},
   "outputs": [
    {
     "name": "stdout",
     "output_type": "stream",
     "text": [
      "Factory Capacities:[(:calopia, 83.92320000000001), (:sorange, 82.2848), (:fardo, 16.8128)]\n"
     ]
    }
   ],
   "source": [
    "# Printing the factory capacities\n",
    "factory_capacity_to_change = [(i, value(factory_capacity[i])*0.0016) for i in location_name if value(factory_capacity[i]) > 0]\n",
    "println(\"Factory Capacities:\", factory_capacity_to_change)"
   ]
  },
  {
   "cell_type": "code",
   "execution_count": 5,
   "id": "53aa2c23-0112-47df-94d1-a468687d85b5",
   "metadata": {},
   "outputs": [
    {
     "name": "stdout",
     "output_type": "stream",
     "text": [
      "Shipment from factory to warehouse:\n",
      "Factory calopia serves Warehouse calopia\n",
      "Factory calopia serves Warehouse tyran\n",
      "Factory calopia serves Warehouse entworpe\n",
      "Factory sorange serves Warehouse sorange\n",
      "Factory fardo serves Warehouse fardo\n"
     ]
    }
   ],
   "source": [
    "# Printing the shipment from factory to warehouse\n",
    "println(\"Shipment from factory to warehouse:\")\n",
    "for i in location_name\n",
    "    for j in location_name\n",
    "        if value(factory_to_warehouse_shipping[i, j]) >= 1\n",
    "            println(\"Factory $i serves Warehouse $j\")\n",
    "        end\n",
    "    end\n",
    "end"
   ]
  },
  {
   "cell_type": "code",
   "execution_count": 6,
   "id": "8a1b5b07-d18a-4ad6-8720-fa83294af55a",
   "metadata": {},
   "outputs": [
    {
     "name": "stdout",
     "output_type": "stream",
     "text": [
      "Shipment from warehouse to customer:\n",
      "Warehouse calopia serves customers in calopia\n",
      "Warehouse sorange serves customers in sorange\n",
      "Warehouse tyran serves customers in tyran\n",
      "Warehouse entworpe serves customers in entworpe\n",
      "Warehouse fardo serves customers in fardo\n"
     ]
    }
   ],
   "source": [
    "# Printing the shipment from warehouse to Customer\n",
    "println(\"Shipment from warehouse to customer:\")\n",
    "for i in location_name\n",
    "    for j in location_name\n",
    "        if value(warehouse_to_customer[i, j]) >= 1\n",
    "            println(\"Warehouse $i serves customers in $j\")\n",
    "        end\n",
    "    end\n",
    "end"
   ]
  }
 ],
 "metadata": {
  "kernelspec": {
   "display_name": "Julia 1.11.1",
   "language": "julia",
   "name": "julia-1.11"
  },
  "language_info": {
   "file_extension": ".jl",
   "mimetype": "application/julia",
   "name": "julia",
   "version": "1.11.1"
  }
 },
 "nbformat": 4,
 "nbformat_minor": 5
}
